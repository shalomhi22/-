{
 "metadata": {
  "language_info": {
   "codemirror_mode": {
    "name": "ipython",
    "version": 3
   },
   "file_extension": ".py",
   "mimetype": "text/x-python",
   "name": "python",
   "nbconvert_exporter": "python",
   "pygments_lexer": "ipython3",
   "version": 3
  },
  "orig_nbformat": 2
 },
 "nbformat": 4,
 "nbformat_minor": 2,
 "cells": [
  {
   "source": [
    "## 뉴스 크롤링"
   ],
   "cell_type": "markdown",
   "metadata": {}
  },
  {
   "cell_type": "code",
   "execution_count": null,
   "metadata": {},
   "outputs": [],
   "source": [
    "from requests import get\n",
    "from bs4 import BeautifulSoup\n",
    "import pandas as pd\n",
    "from bs4.element import NavigableString\n",
    "\n",
    "result = []\n",
    "headers = {\"User-Agent\":\"Mozilla/5.0 (Windows NT 6.1; Win64; x64) AppleWebKit/537.36 (KHTML, like Gecko) Chrome/73.0.3683.86 Safari/537.36\"}\n",
    "\n",
    "for i in range(1,49) :\n",
    "    #크롤링 할 링크 불러오기\n",
    "    response = get(\"https://search.hankyung.com/apps.frm/search.news?query=%EC%A0%84%EA%B8%B0%EC%B0%A8&sort=DATE%2FDESC%2CRANK%2FDESC&period=DATE&area=title&mediaid_clust=HKPAPER&sdate=2020.11.01&edate=2021.04.30&exact=&include=%EC%A0%84%EA%B8%B0%EC%B0%A8&except=&page=\"+str(i),headers=headers)\n",
    "    html = response.text\n",
    "    if response.status_code == 200:\n",
    "        bsObject = BeautifulSoup(html, 'html.parser')\n",
    "\n",
    "        for newslist in bsObject.select('div.txt_wrap') :\n",
    "            #한경 기사만 가져오기\n",
    "            company = newslist.select_one('.info > span')\n",
    "            if '한국경제' not in company : continue\n",
    "\n",
    "            #제목\n",
    "            newstitle = newslist.select_one('.tit').get_text().lstrip()\n",
    "            if '[포토]' in newstitle : continue #포토 기사 제외\n",
    "            if '전기차' not in newstitle : continue #제목에 '전기차'가 포함되어있지 않다면 제외\n",
    "\n",
    "            #날짜/시간\n",
    "            newsdate = newslist.select_one('span.date_time').string\n",
    "            time = newsdate[11:] \n",
    "            newsdate = newsdate[:10]\n",
    "            newsdate = newsdate[:4]+'년 '+newsdate[5:7]+'월 '+newsdate[8:]+'일'\n",
    "\n",
    "            #본문\n",
    "            url = newslist.a['href']\n",
    "            response_news = get(url,headers=headers)\n",
    "            newshtml = response_news.text\n",
    "\n",
    "            if response_news.status_code == 200:\n",
    "                bs = BeautifulSoup(newshtml, 'html.parser')\n",
    "                content = bs.select_one(\"#articletxt\")\n",
    "\n",
    "                #기사 본문과 상관 없는 하위 태그들 삭제\n",
    "                target_text_without_child_tags = [\n",
    "                    bs_object\n",
    "                    for bs_object\n",
    "                    in content\n",
    "                    if isinstance(bs_object, NavigableString)\n",
    "                ]\n",
    "                text = \"\".join(target_text_without_child_tags)\n",
    "                content = text.strip()\n",
    "\n",
    "                #본문에서 기자 삭제\n",
    "                if '기사제보 및 보도자료 open@hankyung.com' in content :\n",
    "                    content = content.replace('기사제보 및 보도자료 open@hankyung.com','')\n",
    "                if '@hankyung.com' in content :\n",
    "                    index = content.rfind('.',0,len(content)-13)\n",
    "                    content = content[:index+1]\n",
    "\n",
    "                #엑셀로 추출\n",
    "                result.append([newstitle,newsdate,time,content])\n",
    "                data = pd.DataFrame(result)\n",
    "                data.to_csv('한경.csv', encoding='cp949') \n",
    "            else : \n",
    "                print(response_news.status_code)\n",
    "    else :\n",
    "        print(response.status_code)\n",
    "    \n",
    "    print('success {} page'.format(i))\n",
    "\n",
    "\n"
   ]
  },
  {
   "source": [
    "## 주가 변동 도출"
   ],
   "cell_type": "markdown",
   "metadata": {}
  },
  {
   "cell_type": "code",
   "execution_count": null,
   "metadata": {},
   "outputs": [],
   "source": [
    "import numpy as np\n",
    "import pandas as pd \n",
    "import matplotlib.pyplot as plt \n",
    "plt.style.use('seaborn')\n",
    "import yfinance as yf \n",
    "from pykrx import stock"
   ]
  },
  {
   "cell_type": "code",
   "execution_count": null,
   "metadata": {},
   "outputs": [],
   "source": [
    "hyundai = yf.download('005380.KS', start='2020-10-30', end='2021-04-30')\n",
    "kia = yf.download('000270.KS', start='2020-10-30', end='2021-04-30')\n",
    "lg_chemi = yf.download('051910.KS', start='2020-10-30', end='2021-04-30')\n",
    "ss_sdi = yf.download('006400.KS', start='2020-10-30', end='2021-04-30')\n",
    "sk_inov = yf.download('096770.KS', start='2020-10-30', end='2021-04-30')\n",
    "posco_chemi = yf.download('003670.KS', start='2020-10-30', end='2021-04-30')\n",
    "sk_net = yf.download('003670.KS', start='2020-10-30', end='2021-04-30')"
   ]
  },
  {
   "cell_type": "code",
   "execution_count": null,
   "metadata": {},
   "outputs": [],
   "source": [
    "df = pd.DataFrame()\n",
    "rdf = pd.DataFrame()\n",
    "\n",
    "df['hyundai'] = hyundai.Close.pct_change().dropna()\n",
    "rdf['hyundai'] = df.hyundai.apply(lambda x: [1, 0][x < 0])\n",
    "df.dropna(inplace=True)\n",
    "\n",
    "\n",
    "df['kia'] = kia.Close.pct_change().dropna()\n",
    "rdf['kia'] = df.kia.apply(lambda x: [1, 0][x < 0])\n",
    "df.dropna(inplace=True)\n",
    "\n",
    "\n",
    "df['lg_chemi'] = lg_chemi.Close.pct_change().dropna()\n",
    "rdf['lg_chemi'] = df.lg_chemi.apply(lambda x: [1, 0][x < 0])\n",
    "df.dropna(inplace=True)\n",
    "\n",
    "\n",
    "df['ss_sdi'] = ss_sdi.Close.pct_change().dropna()\n",
    "rdf['ss_sdi'] = df.ss_sdi.apply(lambda x: [1, 0][x < 0])\n",
    "df.dropna(inplace=True)\n",
    "\n",
    "\n",
    "df['sk_inov'] = sk_inov.Close.pct_change().dropna()\n",
    "rdf['sk_inov'] = df.sk_inov.apply(lambda x: [1, 0][x < 0])\n",
    "df.dropna(inplace=True)\n",
    "\n",
    "\n",
    "df['posco_chemi'] = posco_chemi.Close.pct_change().dropna()\n",
    "rdf['posco_chemi'] = df.posco_chemi.apply(lambda x: [1, 0][x < 0])\n",
    "df.dropna(inplace=True)\n",
    "\n",
    "\n",
    "df['sk_net'] = sk_net.Close.pct_change().dropna()\n",
    "rdf['sk_net'] = df.sk_net.apply(lambda x: [1, 0][x < 0])\n",
    "df.dropna(inplace=True)\n",
    "print(df.head())\n",
    "print(rdf.head())"
   ]
  },
  {
   "source": [
    "## 주가 변동 그래프 도출"
   ],
   "cell_type": "markdown",
   "metadata": {}
  },
  {
   "cell_type": "code",
   "execution_count": null,
   "metadata": {},
   "outputs": [],
   "source": [
    "hyundai.Close.plot()\n",
    "plt.savefig('./hyundai.png')"
   ]
  },
  {
   "cell_type": "code",
   "execution_count": null,
   "metadata": {},
   "outputs": [],
   "source": [
    "kia.Close.plot()\n",
    "plt.savefig('./kia.png')"
   ]
  },
  {
   "cell_type": "code",
   "execution_count": null,
   "metadata": {},
   "outputs": [],
   "source": [
    "lg_chemi.Close.plot()\n",
    "plt.savefig('./lg_chemi.png')"
   ]
  },
  {
   "cell_type": "code",
   "execution_count": null,
   "metadata": {},
   "outputs": [],
   "source": [
    "lg_chemi.Close.plot()\n",
    "plt.savefig('./lg_chemi.png')"
   ]
  },
  {
   "cell_type": "code",
   "execution_count": null,
   "metadata": {},
   "outputs": [],
   "source": [
    "sk_inov.Close.plot()\n",
    "plt.savefig('./sk_inov.png')"
   ]
  },
  {
   "cell_type": "code",
   "execution_count": null,
   "metadata": {},
   "outputs": [],
   "source": [
    "posco_chemi.Close.plot()\n",
    "plt.savefig('./posco_chemi.png')"
   ]
  },
  {
   "cell_type": "code",
   "execution_count": null,
   "metadata": {},
   "outputs": [],
   "source": [
    "sk_net.Close.plot()\n",
    "plt.savefig('./sk_net.png')"
   ]
  },
  {
   "cell_type": "code",
   "execution_count": null,
   "metadata": {},
   "outputs": [],
   "source": [
    "df = pd.DataFrame() \n",
    "df['hyundai'] = hyundai.Close\n",
    "df['kia'] = kia.Close\n",
    "df['lg_chemi'] = lg_chemi.Close\n",
    "df['ss_sdi'] = ss_sdi.Close\n",
    "df['sk_inov'] = sk_inov.Close\n",
    "df['posco_chemi'] = posco_chemi.Close\n",
    "df['sk_net'] = sk_net.Close\n",
    "df.plot()\n",
    "plt.savefig('./kospi.png')"
   ]
  },
  {
   "source": [
    "## 주가 종목별 뉴스 개수 추출"
   ],
   "cell_type": "markdown",
   "metadata": {}
  },
  {
   "cell_type": "code",
   "execution_count": null,
   "metadata": {},
   "outputs": [],
   "source": [
    "#0으로 초기화\n",
    "data = {'현대차':0,'기아차':0,'LG화학/에너지솔루션':0, '삼성SDI':0, 'SK이노베이션':0,'에코프로비엠':0, '엘앤에프':0, '포스코케미칼':0,'SK네트웍스':0, '피앤이솔루션':0, '피에스텍':0, '포스코ICT':0}\n",
    "\n",
    "import pandas as pd\n",
    "\n",
    "#뉴스 \n",
    "data_pd = pd.read_csv(('total.csv'),encoding='cp949',header = None, index_col=None, names = None)\n",
    "data_np = pd.DataFrame.to_numpy(data_pd)\n",
    "\n",
    "#전기차 관련 주\n",
    "i = 1\n",
    "for i in range(1,2622) :\n",
    "    title = data_np[i][1]\n",
    "    if '현대' in title : data['현대차'] += 1\n",
    "    if '기아' in title : data['기아차'] += 1\n",
    "    if ('LG화학' or 'LG에너지솔루션') in title : data['LG화학/에너지솔루션'] += 1\n",
    "    if '삼성SDI' in title : data['삼성SDI'] += 1\n",
    "    if 'SK이노베이션' in title : data['SK이노베이션'] += 1\n",
    "    if '에코프로비엠' in title : data['에코프로비엠'] += 1\n",
    "    if '엘앤에프' in title : data['엘앤에프'] += 1\n",
    "    if '포스코케미칼' in title : data['포스코케미칼'] += 1\n",
    "    if 'SK네트웍스' in title : data['SK네트웍스'] += 1\n",
    "    if '피앤이솔루션' in title : data['피앤이솔루션'] += 1\n",
    "    if '피에스텍' in title : data['피에스텍'] += 1\n",
    "    if (('(주)포스코 ICT') or ('POSCO ICT COMPANY LTD.') or ('포스데이타') or ('포스코아이씨티') or ('포스코 ICT') or ('포스코ICT')) in title : data['포스코ICT'] += 1\n",
    "    i+=1\n",
    "\n",
    "#데이터 출력\n",
    "df = pd.DataFrame(data,index=['cnt'])\n",
    "df = df.transpose()\n",
    "df\n"
   ]
  }
 ]
}