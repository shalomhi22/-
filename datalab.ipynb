{
 "metadata": {
  "language_info": {
   "codemirror_mode": {
    "name": "ipython",
    "version": 3
   },
   "file_extension": ".py",
   "mimetype": "text/x-python",
   "name": "python",
   "nbconvert_exporter": "python",
   "pygments_lexer": "ipython3",
   "version": "3.6.2"
  },
  "orig_nbformat": 2,
  "kernelspec": {
   "name": "pythonjvsc74a57bd017e86c8f4b5066822b86a01dc07b8bac815275e67cc28ba85beccdb8651ab936",
   "display_name": "Python 3.6.2  ('BDvenv': venv)"
  },
  "metadata": {
   "interpreter": {
    "hash": "17e86c8f4b5066822b86a01dc07b8bac815275e67cc28ba85beccdb8651ab936"
   }
  }
 },
 "nbformat": 4,
 "nbformat_minor": 2,
 "cells": [
  {
   "cell_type": "code",
   "execution_count": 32,
   "metadata": {},
   "outputs": [
    {
     "output_type": "execute_result",
     "data": {
      "text/plain": [
       "           날짜       전기차\n",
       "0  2020-04-30  26.73985\n",
       "1  2020-05-01  25.52712\n",
       "2  2020-05-02  25.43984\n",
       "3  2020-05-03  28.94482\n",
       "4  2020-05-04  27.47484"
      ],
      "text/html": "<div>\n<style scoped>\n    .dataframe tbody tr th:only-of-type {\n        vertical-align: middle;\n    }\n\n    .dataframe tbody tr th {\n        vertical-align: top;\n    }\n\n    .dataframe thead th {\n        text-align: right;\n    }\n</style>\n<table border=\"1\" class=\"dataframe\">\n  <thead>\n    <tr style=\"text-align: right;\">\n      <th></th>\n      <th>날짜</th>\n      <th>전기차</th>\n    </tr>\n  </thead>\n  <tbody>\n    <tr>\n      <th>0</th>\n      <td>2020-04-30</td>\n      <td>26.73985</td>\n    </tr>\n    <tr>\n      <th>1</th>\n      <td>2020-05-01</td>\n      <td>25.52712</td>\n    </tr>\n    <tr>\n      <th>2</th>\n      <td>2020-05-02</td>\n      <td>25.43984</td>\n    </tr>\n    <tr>\n      <th>3</th>\n      <td>2020-05-03</td>\n      <td>28.94482</td>\n    </tr>\n    <tr>\n      <th>4</th>\n      <td>2020-05-04</td>\n      <td>27.47484</td>\n    </tr>\n  </tbody>\n</table>\n</div>"
     },
     "metadata": {},
     "execution_count": 32
    }
   ],
   "source": [
    "import pandas as pd\n",
    "import datetime\n",
    "\n",
    "data = pd.read_csv(\"datalab.csv\", encoding = 'cp949', sep=\",\")\n",
    "data.head()"
   ]
  },
  {
   "cell_type": "code",
   "execution_count": 33,
   "metadata": {},
   "outputs": [
    {
     "output_type": "execute_result",
     "data": {
      "text/plain": [
       "         date  percentage\n",
       "0  2020-04-30    26.73985\n",
       "1  2020-05-01    25.52712\n",
       "2  2020-05-02    25.43984\n",
       "3  2020-05-03    28.94482\n",
       "4  2020-05-04    27.47484"
      ],
      "text/html": "<div>\n<style scoped>\n    .dataframe tbody tr th:only-of-type {\n        vertical-align: middle;\n    }\n\n    .dataframe tbody tr th {\n        vertical-align: top;\n    }\n\n    .dataframe thead th {\n        text-align: right;\n    }\n</style>\n<table border=\"1\" class=\"dataframe\">\n  <thead>\n    <tr style=\"text-align: right;\">\n      <th></th>\n      <th>date</th>\n      <th>percentage</th>\n    </tr>\n  </thead>\n  <tbody>\n    <tr>\n      <th>0</th>\n      <td>2020-04-30</td>\n      <td>26.73985</td>\n    </tr>\n    <tr>\n      <th>1</th>\n      <td>2020-05-01</td>\n      <td>25.52712</td>\n    </tr>\n    <tr>\n      <th>2</th>\n      <td>2020-05-02</td>\n      <td>25.43984</td>\n    </tr>\n    <tr>\n      <th>3</th>\n      <td>2020-05-03</td>\n      <td>28.94482</td>\n    </tr>\n    <tr>\n      <th>4</th>\n      <td>2020-05-04</td>\n      <td>27.47484</td>\n    </tr>\n  </tbody>\n</table>\n</div>"
     },
     "metadata": {},
     "execution_count": 33
    }
   ],
   "source": [
    "data.columns = ['date', 'percentage']\n",
    "data.head()"
   ]
  },
  {
   "cell_type": "code",
   "execution_count": 34,
   "metadata": {},
   "outputs": [
    {
     "output_type": "execute_result",
     "data": {
      "text/plain": [
       "          date  percentage\n",
       "0   2020-04-30    26.73985\n",
       "1   2020-05-04    25.52712\n",
       "2   2020-05-04    25.43984\n",
       "3   2020-05-04    28.94482\n",
       "4   2020-05-04    27.47484\n",
       "..         ...         ...\n",
       "361 2021-04-26    35.78023\n",
       "362 2021-04-27    33.99788\n",
       "363 2021-04-28    32.78515\n",
       "364 2021-04-29    31.71941\n",
       "365 2021-04-30    30.09784\n",
       "\n",
       "[366 rows x 2 columns]"
      ],
      "text/html": "<div>\n<style scoped>\n    .dataframe tbody tr th:only-of-type {\n        vertical-align: middle;\n    }\n\n    .dataframe tbody tr th {\n        vertical-align: top;\n    }\n\n    .dataframe thead th {\n        text-align: right;\n    }\n</style>\n<table border=\"1\" class=\"dataframe\">\n  <thead>\n    <tr style=\"text-align: right;\">\n      <th></th>\n      <th>date</th>\n      <th>percentage</th>\n    </tr>\n  </thead>\n  <tbody>\n    <tr>\n      <th>0</th>\n      <td>2020-04-30</td>\n      <td>26.73985</td>\n    </tr>\n    <tr>\n      <th>1</th>\n      <td>2020-05-04</td>\n      <td>25.52712</td>\n    </tr>\n    <tr>\n      <th>2</th>\n      <td>2020-05-04</td>\n      <td>25.43984</td>\n    </tr>\n    <tr>\n      <th>3</th>\n      <td>2020-05-04</td>\n      <td>28.94482</td>\n    </tr>\n    <tr>\n      <th>4</th>\n      <td>2020-05-04</td>\n      <td>27.47484</td>\n    </tr>\n    <tr>\n      <th>...</th>\n      <td>...</td>\n      <td>...</td>\n    </tr>\n    <tr>\n      <th>361</th>\n      <td>2021-04-26</td>\n      <td>35.78023</td>\n    </tr>\n    <tr>\n      <th>362</th>\n      <td>2021-04-27</td>\n      <td>33.99788</td>\n    </tr>\n    <tr>\n      <th>363</th>\n      <td>2021-04-28</td>\n      <td>32.78515</td>\n    </tr>\n    <tr>\n      <th>364</th>\n      <td>2021-04-29</td>\n      <td>31.71941</td>\n    </tr>\n    <tr>\n      <th>365</th>\n      <td>2021-04-30</td>\n      <td>30.09784</td>\n    </tr>\n  </tbody>\n</table>\n<p>366 rows × 2 columns</p>\n</div>"
     },
     "metadata": {},
     "execution_count": 34
    }
   ],
   "source": [
    "#주말 / 공휴일 / 마감장 조정\n",
    "def rearrange(df) :\n",
    "    date = datetime.datetime.strptime(df['date'], \"%Y-%m-%d\")\n",
    "    \n",
    "    #공휴일\n",
    "    if date == datetime.datetime(2020, 9, 30) :\n",
    "        return date + datetime.timedelta(days=5)\n",
    "    elif date in [datetime.datetime(2020, 10, 1), datetime.datetime(2020, 12, 31), datetime.datetime(2021, 2, 11)] : \n",
    "        return date + datetime.timedelta(days=4)\n",
    "    elif date in [datetime.datetime(2020, 5, 1), datetime.datetime(2020, 8, 15), datetime.datetime(2020, 10, 2), datetime.datetime(2020, 10, 9), datetime.datetime(2020, 12, 25), datetime.datetime(2021, 1, 1), datetime.datetime(2021, 2, 12)] :\n",
    "        return date + datetime.timedelta(days=3)\n",
    "    elif date == datetime.datetime(2020, 8, 16) :\n",
    "        return date + datetime.timedelta(days=2) \n",
    "    elif date in [ datetime.datetime(2020, 5, 5), datetime.datetime(2020, 8, 17), datetime.datetime(2021, 3, 1)] : \n",
    "        return date + datetime.timedelta(days=1)\n",
    "    #주말\n",
    "    elif date.weekday() == 6 :  #일요일\n",
    "        if date == datetime.datetime(2021, 2, 28) : return date + datetime.timedelta(days=2)\n",
    "        else : return date + datetime.timedelta(days=1)\n",
    "    elif date.weekday() == 5 : #토요일\n",
    "        if date == datetime.datetime(2021, 2, 27) : return date + datetime.timedelta(days=3)\n",
    "        else : return date + datetime.timedelta(days=2)\n",
    "    return date\n",
    "\n",
    "data['date'] = data.apply(rearrange, axis=1)\n",
    "data"
   ]
  },
  {
   "cell_type": "code",
   "execution_count": 35,
   "metadata": {},
   "outputs": [
    {
     "output_type": "execute_result",
     "data": {
      "text/plain": [
       "          date  percentage\n",
       "0   2020-04-30        5152\n",
       "1   2020-05-04        4919\n",
       "2   2020-05-04        4902\n",
       "3   2020-05-04        5577\n",
       "4   2020-05-04        5294\n",
       "..         ...         ...\n",
       "361 2021-04-26        6895\n",
       "362 2021-04-27        6551\n",
       "363 2021-04-28        6317\n",
       "364 2021-04-29        6112\n",
       "365 2021-04-30        5800\n",
       "\n",
       "[366 rows x 2 columns]"
      ],
      "text/html": "<div>\n<style scoped>\n    .dataframe tbody tr th:only-of-type {\n        vertical-align: middle;\n    }\n\n    .dataframe tbody tr th {\n        vertical-align: top;\n    }\n\n    .dataframe thead th {\n        text-align: right;\n    }\n</style>\n<table border=\"1\" class=\"dataframe\">\n  <thead>\n    <tr style=\"text-align: right;\">\n      <th></th>\n      <th>date</th>\n      <th>percentage</th>\n    </tr>\n  </thead>\n  <tbody>\n    <tr>\n      <th>0</th>\n      <td>2020-04-30</td>\n      <td>5152</td>\n    </tr>\n    <tr>\n      <th>1</th>\n      <td>2020-05-04</td>\n      <td>4919</td>\n    </tr>\n    <tr>\n      <th>2</th>\n      <td>2020-05-04</td>\n      <td>4902</td>\n    </tr>\n    <tr>\n      <th>3</th>\n      <td>2020-05-04</td>\n      <td>5577</td>\n    </tr>\n    <tr>\n      <th>4</th>\n      <td>2020-05-04</td>\n      <td>5294</td>\n    </tr>\n    <tr>\n      <th>...</th>\n      <td>...</td>\n      <td>...</td>\n    </tr>\n    <tr>\n      <th>361</th>\n      <td>2021-04-26</td>\n      <td>6895</td>\n    </tr>\n    <tr>\n      <th>362</th>\n      <td>2021-04-27</td>\n      <td>6551</td>\n    </tr>\n    <tr>\n      <th>363</th>\n      <td>2021-04-28</td>\n      <td>6317</td>\n    </tr>\n    <tr>\n      <th>364</th>\n      <td>2021-04-29</td>\n      <td>6112</td>\n    </tr>\n    <tr>\n      <th>365</th>\n      <td>2021-04-30</td>\n      <td>5800</td>\n    </tr>\n  </tbody>\n</table>\n<p>366 rows × 2 columns</p>\n</div>"
     },
     "metadata": {},
     "execution_count": 35
    }
   ],
   "source": [
    "def calc(df) :\n",
    "    criteria = float(data['percentage'][365]) / 100\n",
    "    return int(float(df['percentage']) / 100 * 5800 / criteria)\n",
    "\n",
    "data['percentage'] = data.apply(calc, axis=1)\n",
    "data"
   ]
  },
  {
   "cell_type": "code",
   "execution_count": 36,
   "metadata": {},
   "outputs": [
    {
     "output_type": "execute_result",
     "data": {
      "text/plain": [
       "            percentage\n",
       "date                  \n",
       "2020-05-04       20692\n",
       "2020-05-06       10583\n",
       "2020-05-07        4945\n",
       "2020-05-08        4789\n",
       "2020-05-11       17325\n",
       "...                ...\n",
       "2021-04-26       20640\n",
       "2021-04-27        6551\n",
       "2021-04-28        6317\n",
       "2021-04-29        6112\n",
       "2021-04-30        5800\n",
       "\n",
       "[248 rows x 1 columns]"
      ],
      "text/html": "<div>\n<style scoped>\n    .dataframe tbody tr th:only-of-type {\n        vertical-align: middle;\n    }\n\n    .dataframe tbody tr th {\n        vertical-align: top;\n    }\n\n    .dataframe thead th {\n        text-align: right;\n    }\n</style>\n<table border=\"1\" class=\"dataframe\">\n  <thead>\n    <tr style=\"text-align: right;\">\n      <th></th>\n      <th>percentage</th>\n    </tr>\n    <tr>\n      <th>date</th>\n      <th></th>\n    </tr>\n  </thead>\n  <tbody>\n    <tr>\n      <th>2020-05-04</th>\n      <td>20692</td>\n    </tr>\n    <tr>\n      <th>2020-05-06</th>\n      <td>10583</td>\n    </tr>\n    <tr>\n      <th>2020-05-07</th>\n      <td>4945</td>\n    </tr>\n    <tr>\n      <th>2020-05-08</th>\n      <td>4789</td>\n    </tr>\n    <tr>\n      <th>2020-05-11</th>\n      <td>17325</td>\n    </tr>\n    <tr>\n      <th>...</th>\n      <td>...</td>\n    </tr>\n    <tr>\n      <th>2021-04-26</th>\n      <td>20640</td>\n    </tr>\n    <tr>\n      <th>2021-04-27</th>\n      <td>6551</td>\n    </tr>\n    <tr>\n      <th>2021-04-28</th>\n      <td>6317</td>\n    </tr>\n    <tr>\n      <th>2021-04-29</th>\n      <td>6112</td>\n    </tr>\n    <tr>\n      <th>2021-04-30</th>\n      <td>5800</td>\n    </tr>\n  </tbody>\n</table>\n<p>248 rows × 1 columns</p>\n</div>"
     },
     "metadata": {},
     "execution_count": 36
    }
   ],
   "source": [
    "data_today = data.groupby('date').sum()\n",
    "data_today.drop([datetime.datetime(2020, 4, 30)], axis=0, inplace = True)\n",
    "data_today"
   ]
  },
  {
   "cell_type": "code",
   "execution_count": 37,
   "metadata": {},
   "outputs": [
    {
     "output_type": "execute_result",
     "data": {
      "text/plain": [
       "          date  percentage\n",
       "0   2020-05-01        5152\n",
       "1   2020-05-05        4919\n",
       "2   2020-05-05        4902\n",
       "3   2020-05-05        5577\n",
       "4   2020-05-05        5294\n",
       "..         ...         ...\n",
       "361 2021-04-27        6895\n",
       "362 2021-04-28        6551\n",
       "363 2021-04-29        6317\n",
       "364 2021-04-30        6112\n",
       "365 2021-05-01        5800\n",
       "\n",
       "[366 rows x 2 columns]"
      ],
      "text/html": "<div>\n<style scoped>\n    .dataframe tbody tr th:only-of-type {\n        vertical-align: middle;\n    }\n\n    .dataframe tbody tr th {\n        vertical-align: top;\n    }\n\n    .dataframe thead th {\n        text-align: right;\n    }\n</style>\n<table border=\"1\" class=\"dataframe\">\n  <thead>\n    <tr style=\"text-align: right;\">\n      <th></th>\n      <th>date</th>\n      <th>percentage</th>\n    </tr>\n  </thead>\n  <tbody>\n    <tr>\n      <th>0</th>\n      <td>2020-05-01</td>\n      <td>5152</td>\n    </tr>\n    <tr>\n      <th>1</th>\n      <td>2020-05-05</td>\n      <td>4919</td>\n    </tr>\n    <tr>\n      <th>2</th>\n      <td>2020-05-05</td>\n      <td>4902</td>\n    </tr>\n    <tr>\n      <th>3</th>\n      <td>2020-05-05</td>\n      <td>5577</td>\n    </tr>\n    <tr>\n      <th>4</th>\n      <td>2020-05-05</td>\n      <td>5294</td>\n    </tr>\n    <tr>\n      <th>...</th>\n      <td>...</td>\n      <td>...</td>\n    </tr>\n    <tr>\n      <th>361</th>\n      <td>2021-04-27</td>\n      <td>6895</td>\n    </tr>\n    <tr>\n      <th>362</th>\n      <td>2021-04-28</td>\n      <td>6551</td>\n    </tr>\n    <tr>\n      <th>363</th>\n      <td>2021-04-29</td>\n      <td>6317</td>\n    </tr>\n    <tr>\n      <th>364</th>\n      <td>2021-04-30</td>\n      <td>6112</td>\n    </tr>\n    <tr>\n      <th>365</th>\n      <td>2021-05-01</td>\n      <td>5800</td>\n    </tr>\n  </tbody>\n</table>\n<p>366 rows × 2 columns</p>\n</div>"
     },
     "metadata": {},
     "execution_count": 37
    }
   ],
   "source": [
    "def tomorrow(df) :\n",
    "     return df['date'] + datetime.timedelta(days=1)\n",
    "\n",
    "data['date'] = data.apply(tomorrow, axis=1)\n",
    "data"
   ]
  },
  {
   "cell_type": "code",
   "execution_count": 39,
   "metadata": {},
   "outputs": [
    {
     "output_type": "execute_result",
     "data": {
      "text/plain": [
       "            percentage\n",
       "date                  \n",
       "2020-05-01        5152\n",
       "2020-05-05       20692\n",
       "2020-05-07       10583\n",
       "2020-05-08        4945\n",
       "2020-05-09        4789\n",
       "...                ...\n",
       "2021-04-24        6873\n",
       "2021-04-27       20640\n",
       "2021-04-28        6551\n",
       "2021-04-29        6317\n",
       "2021-04-30        6112\n",
       "\n",
       "[248 rows x 1 columns]"
      ],
      "text/html": "<div>\n<style scoped>\n    .dataframe tbody tr th:only-of-type {\n        vertical-align: middle;\n    }\n\n    .dataframe tbody tr th {\n        vertical-align: top;\n    }\n\n    .dataframe thead th {\n        text-align: right;\n    }\n</style>\n<table border=\"1\" class=\"dataframe\">\n  <thead>\n    <tr style=\"text-align: right;\">\n      <th></th>\n      <th>percentage</th>\n    </tr>\n    <tr>\n      <th>date</th>\n      <th></th>\n    </tr>\n  </thead>\n  <tbody>\n    <tr>\n      <th>2020-05-01</th>\n      <td>5152</td>\n    </tr>\n    <tr>\n      <th>2020-05-05</th>\n      <td>20692</td>\n    </tr>\n    <tr>\n      <th>2020-05-07</th>\n      <td>10583</td>\n    </tr>\n    <tr>\n      <th>2020-05-08</th>\n      <td>4945</td>\n    </tr>\n    <tr>\n      <th>2020-05-09</th>\n      <td>4789</td>\n    </tr>\n    <tr>\n      <th>...</th>\n      <td>...</td>\n    </tr>\n    <tr>\n      <th>2021-04-24</th>\n      <td>6873</td>\n    </tr>\n    <tr>\n      <th>2021-04-27</th>\n      <td>20640</td>\n    </tr>\n    <tr>\n      <th>2021-04-28</th>\n      <td>6551</td>\n    </tr>\n    <tr>\n      <th>2021-04-29</th>\n      <td>6317</td>\n    </tr>\n    <tr>\n      <th>2021-04-30</th>\n      <td>6112</td>\n    </tr>\n  </tbody>\n</table>\n<p>248 rows × 1 columns</p>\n</div>"
     },
     "metadata": {},
     "execution_count": 39
    }
   ],
   "source": [
    "data_tomorrow = data.groupby('date').sum()\n",
    "data_tomorrow.drop([datetime.datetime(2021, 5, 1)], axis=0, inplace = True)\n",
    "data_tomorrow"
   ]
  },
  {
   "cell_type": "code",
   "execution_count": 40,
   "metadata": {},
   "outputs": [],
   "source": [
    "data_today.to_csv(\"datalab.csv\")"
   ]
  },
  {
   "cell_type": "code",
   "execution_count": 41,
   "metadata": {},
   "outputs": [],
   "source": [
    "data_tomorrow.to_csv(\"datalab_shift.csv\")"
   ]
  }
 ]
}